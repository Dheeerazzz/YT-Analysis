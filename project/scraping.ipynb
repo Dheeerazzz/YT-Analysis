{
 "cells": [
  {
   "cell_type": "markdown",
   "metadata": {},
   "source": [
    "# Scraping program to get Channel IDs using Channel URLs"
   ]
  },
  {
   "cell_type": "code",
   "execution_count": 27,
   "metadata": {},
   "outputs": [],
   "source": [
    "from selenium import webdriver\n",
    "from selenium.webdriver.common.by import By\n",
    "import os"
   ]
  },
  {
   "cell_type": "code",
   "execution_count": 28,
   "metadata": {},
   "outputs": [],
   "source": [
    "os.environ['PATH']+= r'C:/SeleniumDrivers'"
   ]
  },
  {
   "cell_type": "code",
   "execution_count": 29,
   "metadata": {},
   "outputs": [],
   "source": [
    "driver=webdriver.Chrome()\n",
    "driver.get('https://www.youtube.com/@TheWeeknd')"
   ]
  },
  {
   "cell_type": "code",
   "execution_count": 30,
   "metadata": {},
   "outputs": [],
   "source": [
    "channel_url=driver.find_element(By.CSS_SELECTOR,'link[rel=\"canonical\"]')"
   ]
  },
  {
   "cell_type": "code",
   "execution_count": 31,
   "metadata": {},
   "outputs": [],
   "source": [
    "href_value = channel_url.get_attribute('href')"
   ]
  },
  {
   "cell_type": "code",
   "execution_count": 32,
   "metadata": {},
   "outputs": [
    {
     "data": {
      "text/plain": [
       "'UC0WP5P-ufpRfjbNrmOWwLBQ'"
      ]
     },
     "execution_count": 32,
     "metadata": {},
     "output_type": "execute_result"
    }
   ],
   "source": [
    "channel_id = href_value.split('/channel/')[-1]\n",
    "channel_id"
   ]
  },
  {
   "cell_type": "markdown",
   "metadata": {},
   "source": [
    "# Main"
   ]
  },
  {
   "cell_type": "code",
   "execution_count": 35,
   "metadata": {},
   "outputs": [
    {
     "name": "stdout",
     "output_type": "stream",
     "text": [
      "UC0WP5P-ufpRfjbNrmOWwLBQ\n",
      "Code also copied to your clipboard\n"
     ]
    }
   ],
   "source": [
    "from selenium import webdriver\n",
    "from selenium.webdriver.common.by import By\n",
    "import os\n",
    "import pyperclip as pc\n",
    "\n",
    "os.environ['PATH']+= r'C:/SeleniumDrivers'\n",
    "\n",
    "driver=webdriver.Chrome()\n",
    "driver.get('https://www.youtube.com/@TheWeeknd')  #COPY+PASTE YOUR URL HERE\n",
    "\n",
    "channel_url=driver.find_element(By.CSS_SELECTOR,'link[rel=\"canonical\"]')\n",
    "\n",
    "href_value = channel_url.get_attribute('href')\n",
    "\n",
    "channel_id = href_value.split('/channel/')[-1]\n",
    "\n",
    "print(channel_id)\n",
    "pc.copy(channel_id)\n",
    "\n",
    "print(\"Code also copied to your clipboard\")\n"
   ]
  }
 ],
 "metadata": {
  "kernelspec": {
   "display_name": "YT-Analysis",
   "language": "python",
   "name": "python3"
  },
  "language_info": {
   "codemirror_mode": {
    "name": "ipython",
    "version": 3
   },
   "file_extension": ".py",
   "mimetype": "text/x-python",
   "name": "python",
   "nbconvert_exporter": "python",
   "pygments_lexer": "ipython3",
   "version": "3.10.10"
  },
  "orig_nbformat": 4
 },
 "nbformat": 4,
 "nbformat_minor": 2
}
